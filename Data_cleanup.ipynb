{
 "cells": [
  {
   "cell_type": "markdown",
   "metadata": {},
   "source": [
    "# First data cleanup "
   ]
  },
  {
   "cell_type": "markdown",
   "metadata": {},
   "source": [
    "#### This code was used to identify the attention-passers. The final csv file includes people who:\n",
    "- passed all attention checks\n",
    "- reported realistic human dimensions, at least 100 pounds and an input less than or equal to \"6\" for feet and \"12\" for inches\n",
    "- have the same response for both of the \"age\" questions"
   ]
  },
  {
   "cell_type": "code",
   "execution_count": 1,
   "metadata": {},
   "outputs": [],
   "source": [
    "# Dependencies and Setup\n",
    "import pandas as pd\n",
    "import numpy as np\n",
    "from scipy import stats\n",
    "%matplotlib inline\n",
    "import matplotlib.pyplot as plt"
   ]
  },
  {
   "cell_type": "code",
   "execution_count": 2,
   "metadata": {},
   "outputs": [],
   "source": [
    "file_to_load = \"prejudice_November 9.csv\"\n",
    "\n",
    "# Read Purchasing File and store into Pandas data frame\n",
    "df = pd.read_csv(file_to_load, encoding= 'unicode_escape')"
   ]
  },
  {
   "cell_type": "code",
   "execution_count": 4,
   "metadata": {},
   "outputs": [],
   "source": [
    "# drop the first two rows and make random ID the index\n",
    "df = df.drop([0, 1])\n",
    "df = df.set_index(\"Random ID\")"
   ]
  },
  {
   "cell_type": "code",
   "execution_count": 18,
   "metadata": {},
   "outputs": [
    {
     "data": {
      "text/plain": [
       "dtype('O')"
      ]
     },
     "execution_count": 18,
     "metadata": {},
     "output_type": "execute_result"
    }
   ],
   "source": [
    "# convert \"duration in seconds\" to numeric \n",
    "df[\"Duration (in seconds)\"] = pd.to_numeric(df[\"Duration (in seconds)\"], errors='coerce')\n",
    "\n",
    "# see if it worked\n",
    "df[\"Duration (in seconds)\"].dtypes"
   ]
  },
  {
   "cell_type": "code",
   "execution_count": 50,
   "metadata": {},
   "outputs": [],
   "source": [
    "# convert column values to numeric\n",
    "cols = ['RWA_12', 'Turnover_4', 'AllyBarrier_5', 'Q101', 'Age', 'Height_1', 'Height_2', 'weight']\n",
    "df[cols] = df[cols].apply(pd.to_numeric, errors='coerce', axis=1)"
   ]
  },
  {
   "cell_type": "code",
   "execution_count": 52,
   "metadata": {},
   "outputs": [
    {
     "data": {
      "text/plain": [
       "count     334.000000\n",
       "mean      130.648335\n",
       "std        77.486325\n",
       "min         2.000000\n",
       "25%        80.000000\n",
       "50%       134.000000\n",
       "75%       165.000000\n",
       "max      1000.000000\n",
       "Name: weight, dtype: float64"
      ]
     },
     "execution_count": 52,
     "metadata": {},
     "output_type": "execute_result"
    }
   ],
   "source": [
    "df['weight'].describe()"
   ]
  },
  {
   "cell_type": "code",
   "execution_count": 32,
   "metadata": {},
   "outputs": [
    {
     "data": {
      "text/plain": [
       "Random ID\n",
       "821159375    False\n",
       "252075093    False\n",
       "348920129    False\n",
       "199625306    False\n",
       "894003904    False\n",
       "             ...  \n",
       "485145293     True\n",
       "912026072    False\n",
       "347956039    False\n",
       "264517343    False\n",
       "624649606    False\n",
       "Name: RWA_12, Length: 434, dtype: bool"
      ]
     },
     "execution_count": 32,
     "metadata": {},
     "output_type": "execute_result"
    }
   ],
   "source": [
    "# see which rows passes the attention check. We will compare later after we drop the attention non-passers\n",
    "df['RWA_12'] == 3"
   ]
  },
  {
   "cell_type": "code",
   "execution_count": 67,
   "metadata": {},
   "outputs": [],
   "source": [
    "# create a new dataframe with the following critera: 1) attention passers, spent more than 5 min on survey, have human\n",
    "# dimensions, and answered both age questions correctly\n",
    "df_passed = df[(df['RWA_12'] == 3) \n",
    "               & (df['Turnover_4'] == 6)\n",
    "               & (df['AllyBarrier_5'] == 7)\n",
    "               & (df['Q101'] == df['Age'])\n",
    "               & (df['Duration (in seconds)'] > 300)\n",
    "               & (df['Height_2'] <= 12)\n",
    "               & (df['Height_1'] <= 6)\n",
    "              & (df['weight'] >= 100)]"
   ]
  },
  {
   "cell_type": "code",
   "execution_count": 1,
   "metadata": {},
   "outputs": [],
   "source": [
    "#df_passed"
   ]
  },
  {
   "cell_type": "code",
   "execution_count": 69,
   "metadata": {},
   "outputs": [
    {
     "data": {
      "text/plain": [
       "(array([104.,  36.,   8.,   1.,   0.,   0.,   0.,   0.,   0.,   1.]),\n",
       " array([ 306. ,  883.5, 1461. , 2038.5, 2616. , 3193.5, 3771. , 4348.5,\n",
       "        4926. , 5503.5, 6081. ]),\n",
       " <a list of 10 Patch objects>)"
      ]
     },
     "execution_count": 69,
     "metadata": {},
     "output_type": "execute_result"
    },
    {
     "data": {
      "image/png": "[encoded data removed]",
      "text/plain": [
       "<Figure size 432x288 with 1 Axes>"
      ]
     },
     "metadata": {
      "needs_background": "light"
     },
     "output_type": "display_data"
    }
   ],
   "source": [
    "time = df_passed['Duration (in seconds)']\n",
    "plt.hist(time)"
   ]
  },
  {
   "cell_type": "code",
   "execution_count": 60,
   "metadata": {},
   "outputs": [
    {
     "data": {
      "text/plain": [
       "count     152.000000\n",
       "mean      806.032895\n",
       "std       580.745826\n",
       "min       306.000000\n",
       "25%       509.500000\n",
       "50%       636.000000\n",
       "75%       962.500000\n",
       "max      6081.000000\n",
       "Name: Duration (in seconds), dtype: float64"
      ]
     },
     "execution_count": 60,
     "metadata": {},
     "output_type": "execute_result"
    }
   ],
   "source": [
    "time.describe()"
   ]
  },
  {
   "cell_type": "code",
   "execution_count": 61,
   "metadata": {},
   "outputs": [],
   "source": [
    "df_passed.to_csv(r'/Users/fernandaw/Documents/CODE/COVID-PREJUDICE/prejudice_filtered.csv')"
   ]
  },
  {
   "cell_type": "code",
   "execution_count": null,
   "metadata": {},
   "outputs": [],
   "source": []
  }
 ],
 "metadata": {
  "kernelspec": {
   "display_name": "Python 3",
   "language": "python",
   "name": "python3"
  },
  "language_info": {
   "codemirror_mode": {
    "name": "ipython",
    "version": 3
   },
   "file_extension": ".py",
   "mimetype": "text/x-python",
   "name": "python",
   "nbconvert_exporter": "python",
   "pygments_lexer": "ipython3",
   "version": "3.7.6"
  }
 },
 "nbformat": 4,
 "nbformat_minor": 4
}
